{
 "cells": [
  {
   "cell_type": "code",
   "execution_count": 13,
   "metadata": {
    "collapsed": false
   },
   "outputs": [
    {
     "name": "stdout",
     "output_type": "stream",
     "text": [
      "126879648.587 lr= 0.51\n",
      "214655.544242 lr= 0.37125\n",
      "354079.760687 lr= 0.271003\n",
      "2355.70233209 lr= 0.197075\n",
      "57060.4066903 lr= 0.144745\n",
      "5763.97000165 lr= 0.105662\n",
      "13530.7426452 lr= 0.0783459\n",
      "34.4951714586 lr= 0.0586099\n",
      "34.8374572266 lr= 0.0432668\n",
      "130.77056105 lr= 0.0329645\n",
      "739.897886336 lr= 0.0245998\n",
      "215.983265036 lr= 0.019222\n",
      "37.2828617892 lr= 0.0153364\n",
      "57.0505205298 lr= 0.0117461\n",
      "66.0019881059 lr= 0.00971786\n",
      "34.4256452356 lr= 0.00758688\n",
      "113.703065888 lr= 0.00652811\n",
      "80.0831742756 lr= 0.00576315\n",
      "36.0652057389 lr= 0.00464474\n",
      "34.637869596 lr= 0.00424543\n",
      "70.8994847237 lr= 0.00347606\n",
      "39.7010724995 lr= 0.00326761\n",
      "34.9704934244 lr= 0.00311701\n",
      "52.1043857871 lr= 0.00259947\n",
      "37.2711208181 lr= 0.00252085\n",
      "48.7244774534 lr= 0.00211663\n",
      "34.6979951223 lr= 0.00207559\n",
      "39.798008207 lr= 0.00204594\n",
      "35.6285676421 lr= 0.00172921\n",
      "41.2291954837 lr= 0.00171373\n"
     ]
    }
   ],
   "source": [
    "import numpy as np\n",
    "import tensorflow as tf\n",
    "filePath = './test_case_ans/sample_case002_input.txt'\n",
    "resPath = './test_case_ans/sample_case002_ans.txt'\n",
    "c = 3e8\n",
    "\n",
    "def loadData(filePath):\n",
    "    with open(filePath, 'r') as fd:\n",
    "        station_num = int(fd.readline())\n",
    "        device_num = int(fd.readline())\n",
    "        dimen = int(fd.readline())\n",
    "        station_cord = []\n",
    "        for i in range(station_num):\n",
    "            cord = fd.readline().split()\n",
    "            cord = [np.float64(i) for i in cord]\n",
    "            station_cord.append(cord)\n",
    "        station_cord = np.array(station_cord)\n",
    "\n",
    "        device_cord = []\n",
    "        for i in range(device_num):\n",
    "            cord = fd.readline().split()\n",
    "            cord = [np.float64(i) for i in cord]\n",
    "            device_cord.append(cord)\n",
    "        device_cord = np.array(device_cord)\n",
    "        return station_cord, device_cord\n",
    "\n",
    "def loadRes(filePath):\n",
    "    with open(filePath, 'r') as fd:\n",
    "        device_cord = []\n",
    "        for line in fd:\n",
    "            cord = [np.float64(i) for i in line.split()]\n",
    "            device_cord.append(cord)\n",
    "    device_cord = np.array(device_cord)\n",
    "    return device_cord\n",
    "\n",
    "    \n",
    "\n",
    "S, D = loadData(filePath)\n",
    "device_Dist = D*c\n",
    "\n",
    "cord_init = np.mean(S, axis=0)\n",
    "cord_init = cord_init.reshape([1, 3]) * np.ones([len(D), 3])\n",
    "bias_init = np.zeros(len(D))\n",
    "# cord_init = loadRes(resPath)\n",
    "\n",
    "D = D[:10]\n",
    "device_Dist = device_Dist[:10]\n",
    "cord_init = cord_init[:10]\n",
    "bias_init = bias_init[:10]\n",
    "with tf.device('/gpu:2'):\n",
    "#     cord_x = tf.Variable(cord_init[:, 0], name='Cordinate_x', trainable=False) #(N,)\n",
    "#     cord_y = tf.Variable(cord_init[:, 1], name='Cordinate_y', trainable=False)\n",
    "#     cord_z = tf.Variable(cord_init[:, 2], name='Cordinate_z', trainable=False)\n",
    "    cord_x = tf.Variable(cord_init[:, 0], name='Cordinate_x') #(N,)\n",
    "    cord_y = tf.Variable(cord_init[:, 1], name='Cordinate_y')\n",
    "    cord_z = tf.Variable(cord_init[:, 2], name='Cordinate_z')\n",
    "\n",
    "    Station_x = tf.constant(S[:, 0], tf.float64) #(M,)\n",
    "    Station_y = tf.constant(S[:, 1], tf.float64)\n",
    "    Station_z = tf.constant(S[:, 2], tf.float64)\n",
    "\n",
    "    bias = tf.Variable(bias_init, 'Bias') #(N, )\n",
    "\n",
    "    alpha1 = tf.Variable(np.ones(len(cord_init)), 'Alpha1', dtype = tf.float64)  #(N,)\n",
    "    alpha2 = tf.Variable(np.ones(len(cord_init)), 'Alpha2', dtype = tf.float64)  #(N,)\n",
    "    alpha3 = tf.Variable(np.ones(len(cord_init)), 'Alpha3', dtype = tf.float64)  #(N,)\n",
    "#     spd = tf.Variable(3e8, 'SpeedOfLight', dtype = tf.float64)  #(N,)\n",
    "    D_dist = tf.constant(device_Dist, tf.float64) \n",
    "\n",
    "expand_cord_x = tf.expand_dims(cord_x, 1) #(N, 1)\n",
    "expand_cord_y = tf.expand_dims(cord_y, 1)\n",
    "expand_cord_z = tf.expand_dims(cord_z, 1)\n",
    "\n",
    "expand_Station_x = tf.expand_dims(Station_x, 0) #(1, M)\n",
    "expand_Station_y = tf.expand_dims(Station_y, 0)\n",
    "expand_Station_z = tf.expand_dims(Station_z, 0)\n",
    "\n",
    "expand_alpha1 = tf.expand_dims(alpha1, 1) #(N, 1)\n",
    "\n",
    "expand_alpha2 = tf.expand_dims(alpha2, 1) \n",
    "expand_alpha3 = tf.expand_dims(alpha3, 1)\n",
    "\n",
    "expand_bias = tf.expand_dims(bias, 1)\n",
    "\n",
    "clip_cord_z = tf.minimum(tf.maximum(expand_cord_z, 0), expand_Station_z)\n",
    "\n",
    "dist_x = (expand_cord_x - expand_Station_x) **2 #(N, M)\n",
    "dist_y = (expand_cord_y - expand_Station_y) **2\n",
    "dist_z = (expand_cord_z - expand_Station_z) **2\n",
    "\n",
    "global_step = tf.Variable(0, name='global_step', trainable=False)\n",
    "\n",
    "\n",
    "# dist_hat = tf.sqrt(expand_alpha1**2 * dist_x +expand_alpha2**2 * dist_y +\n",
    "#                    expand_alpha3**2 * dist_z) - expand_bias #(N,M)\n",
    "# dist_hat = expand_alpha1 * tf.sqrt(dist_x + dist_y + expand_alpha2**2) - expand_bias #(N,M)\n",
    "dist_hat = (expand_alpha1+expand_alpha1**2+expand_alpha1**3) * tf.sqrt(dist_x + dist_y + dist_z) - expand_bias  #(N,M)\n",
    "\n",
    "Z_g = expand_Station_z - tf.sqrt(tf.maximum(((D_dist + expand_bias)/expand_alpha1) **2 -dist_x-dist_y, 0))\n",
    "\n",
    "losses = tf.reduce_sum((dist_hat - D_dist) **2, 1)\n",
    "learning_rate = tf.train.exponential_decay(0.5, global_step, 1000, 0.85, staircase=True) + tf.train.exponential_decay(1e-2, global_step, 5000, 0.85, staircase=True)\n",
    "optimizer = tf.train.AdamOptimizer(learning_rate=learning_rate)\n",
    "train_op1 = optimizer.minimize(losses, global_step=global_step , var_list=[cord_x, cord_y, alpha1, alpha2,alpha3])\n",
    "\n",
    "optimizer2 = tf.train.AdamOptimizer(learning_rate=learning_rate*10)\n",
    "train_op2 = optimizer2.minimize(losses, global_step=global_step, var_list=[cord_z])\n",
    "\n",
    "train_op = tf.group(train_op1, train_op2)\n",
    "\n",
    "config=tf.ConfigProto()\n",
    "config.gpu_options.allow_growth = True\n",
    "config.allow_soft_placement = True\n",
    "with tf.Session(config=config) as sess:\n",
    "    sess.run(tf.initialize_all_variables())\n",
    "    for i in range(30000):\n",
    "        _, loss = sess.run([train_op, losses])\n",
    "        if i%1000 == 0:\n",
    "            print np.sum(loss), 'lr=', sess.run(learning_rate)\n",
    "    B, Px, Py, Pzz, a1, a2, a3= sess.run([bias, cord_x, cord_y, cord_z, alpha1, alpha2, alpha3])\n",
    "    light_speed = sess.run(spd)\n",
    "    Pz = sess.run(Z_g)"
   ]
  },
  {
   "cell_type": "code",
   "execution_count": 4,
   "metadata": {
    "collapsed": false
   },
   "outputs": [
    {
     "name": "stdout",
     "output_type": "stream",
     "text": [
      "3.59510681488e-07\n"
     ]
    }
   ],
   "source": [
    "print light_speed"
   ]
  },
  {
   "cell_type": "code",
   "execution_count": 14,
   "metadata": {
    "collapsed": false
   },
   "outputs": [
    {
     "name": "stdout",
     "output_type": "stream",
     "text": [
      "-259.452615063\t-341.958914278\t-7.58372496016\n",
      "305.036767352\t-277.163861244\t-4.94149883643\n",
      "332.896605381\t-223.355112356\t-5.18848474724\n",
      "165.879293006\t-235.614892414\t-4.63732674744\n",
      "-293.418666559\t230.957254975\t-3.03277334758\n",
      "-103.483808208\t11.1800382612\t-3.79539151235\n",
      "-32.5728365187\t-261.130739425\t-7.81910049365\n",
      "-249.376289349\t153.489154717\t-5.34818661508\n",
      "-200.624137877\t279.277219551\t-4.28223634471\n",
      "198.130838024\t263.398520636\t7.42715019569\n"
     ]
    },
    {
     "ename": "IndexError",
     "evalue": "index 10 is out of bounds for axis 0 with size 10",
     "output_type": "error",
     "traceback": [
      "\u001b[0;31m\u001b[0m",
      "\u001b[0;31mIndexError\u001b[0mTraceback (most recent call last)",
      "\u001b[0;32m<ipython-input-14-6c8c56459808>\u001b[0m in \u001b[0;36m<module>\u001b[0;34m()\u001b[0m\n\u001b[1;32m      3\u001b[0m         \u001b[0mfd\u001b[0m\u001b[0;34m.\u001b[0m\u001b[0mwrite\u001b[0m\u001b[0;34m(\u001b[0m\u001b[0;34m'{}\\t{}\\t{}\\n'\u001b[0m\u001b[0;34m.\u001b[0m\u001b[0mformat\u001b[0m\u001b[0;34m(\u001b[0m\u001b[0mPx\u001b[0m\u001b[0;34m[\u001b[0m\u001b[0mi\u001b[0m\u001b[0;34m]\u001b[0m\u001b[0;34m,\u001b[0m \u001b[0mPy\u001b[0m\u001b[0;34m[\u001b[0m\u001b[0mi\u001b[0m\u001b[0;34m]\u001b[0m\u001b[0;34m,\u001b[0m \u001b[0mPz\u001b[0m\u001b[0;34m[\u001b[0m\u001b[0mi\u001b[0m\u001b[0;34m]\u001b[0m\u001b[0;34m)\u001b[0m\u001b[0;34m)\u001b[0m\u001b[0;34m\u001b[0m\u001b[0m\n\u001b[1;32m      4\u001b[0m \u001b[0;32mfor\u001b[0m \u001b[0mi\u001b[0m \u001b[0;32min\u001b[0m \u001b[0mrange\u001b[0m\u001b[0;34m(\u001b[0m\u001b[0;36m20\u001b[0m\u001b[0;34m)\u001b[0m\u001b[0;34m:\u001b[0m\u001b[0;34m\u001b[0m\u001b[0m\n\u001b[0;32m----> 5\u001b[0;31m     \u001b[0;32mprint\u001b[0m \u001b[0;34m'{:3}\\t{:3}\\t{:3}'\u001b[0m\u001b[0;34m.\u001b[0m\u001b[0mformat\u001b[0m\u001b[0;34m(\u001b[0m\u001b[0mPx\u001b[0m\u001b[0;34m[\u001b[0m\u001b[0mi\u001b[0m\u001b[0;34m]\u001b[0m\u001b[0;34m,\u001b[0m \u001b[0mPy\u001b[0m\u001b[0;34m[\u001b[0m\u001b[0mi\u001b[0m\u001b[0;34m]\u001b[0m\u001b[0;34m,\u001b[0m \u001b[0mPzz\u001b[0m\u001b[0;34m[\u001b[0m\u001b[0mi\u001b[0m\u001b[0;34m]\u001b[0m\u001b[0;34m)\u001b[0m\u001b[0;34m\u001b[0m\u001b[0m\n\u001b[0m\u001b[1;32m      6\u001b[0m \u001b[0;32mprint\u001b[0m \u001b[0;34m'-------'\u001b[0m\u001b[0;34m\u001b[0m\u001b[0m\n\u001b[1;32m      7\u001b[0m \u001b[0;32mprint\u001b[0m \u001b[0mB\u001b[0m\u001b[0;34m[\u001b[0m\u001b[0;34m:\u001b[0m\u001b[0;36m20\u001b[0m\u001b[0;34m]\u001b[0m\u001b[0;34m\u001b[0m\u001b[0m\n",
      "\u001b[0;31mIndexError\u001b[0m: index 10 is out of bounds for axis 0 with size 10"
     ]
    }
   ],
   "source": [
    "with open('ans_2.txt', 'w') as fd:\n",
    "    for i in range(len(Px)):\n",
    "        fd.write('{}\\t{}\\t{}\\n'.format(Px[i], Py[i], Pz[i]))\n",
    "for i in range(20):\n",
    "    print '{:3}\\t{:3}\\t{:3}'.format(Px[i], Py[i], Pzz[i])\n",
    "print '-------'\n",
    "print B[:20]\n",
    "print '-------'\n",
    "print a1[:20]"
   ]
  },
  {
   "cell_type": "code",
   "execution_count": 2,
   "metadata": {
    "collapsed": false
   },
   "outputs": [
    {
     "name": "stdout",
     "output_type": "stream",
     "text": [
      "-259.20\t-341.86\t1.12\t\n",
      "304.83\t-276.83\t1.48\t\n",
      "332.86\t-223.33\t1.71\t\n",
      "165.98\t-235.58\t1.30\t\n",
      "-293.23\t230.90\t1.24\t\n",
      "-103.55\t11.09\t1.15\t\n",
      "-32.56\t-260.88\t1.40\t\n",
      "-249.33\t153.47\t1.86\t\n",
      "-200.53\t279.14\t1.76\t\n",
      "198.23\t263.55\t1.01\t\n",
      "40\n",
      "1200\n",
      "3\n",
      "299.46\t335.64\t3.77\t\n",
      "201.41\t167.37\t4.70\t\n",
      "-303.59\t-333.12\t2.36\t\n",
      "36.52\t118.45\t3.82\t\n",
      "-294.49\t208.39\t2.77\t\n",
      "367.06\t-294.69\t3.55\t\n",
      "249.87\t-144.93\t3.81\t\n",
      "379.16\t128.55\t3.40\t\n",
      "-11.85\t65.16\t4.07\t\n",
      "-278.27\t42.56\t3.33\t\n",
      "189.71\t264.29\t2.99\t\n",
      "-153.28\t-222.34\t2.50\t\n",
      "117.18\t-221.11\t2.27\t\n",
      "-248.07\t-74.31\t2.50\t\n",
      "70.78\t141.55\t2.04\t\n",
      "-348.28\t146.78\t3.80\t\n",
      "157.31\t318.52\t4.71\t\n",
      "295.36\t-175.00\t2.14\t\n",
      "-229.84\t205.91\t4.62\t\n"
     ]
    }
   ],
   "source": [
    "%%bash\n",
    "head -10 test_case_ans/sample_case002_ans.txt\n",
    "head -22 test_case_ans/sample_case002_input.txt"
   ]
  },
  {
   "cell_type": "code",
   "execution_count": 3,
   "metadata": {
    "collapsed": false
   },
   "outputs": [
    {
     "name": "stdout",
     "output_type": "stream",
     "text": [
      "(2,)\n"
     ]
    }
   ],
   "source": [
    "import numpy as np\n",
    "aa = np.array([[1, 2, 3], [4, 5, 6]])\n",
    "print aa[:, 1].shape"
   ]
  },
  {
   "cell_type": "code",
   "execution_count": null,
   "metadata": {
    "collapsed": true
   },
   "outputs": [],
   "source": []
  }
 ],
 "metadata": {
  "kernelspec": {
   "display_name": "Python 2",
   "language": "python",
   "name": "python2"
  },
  "language_info": {
   "codemirror_mode": {
    "name": "ipython",
    "version": 2
   },
   "file_extension": ".py",
   "mimetype": "text/x-python",
   "name": "python",
   "nbconvert_exporter": "python",
   "pygments_lexer": "ipython2",
   "version": "2.7.11"
  }
 },
 "nbformat": 4,
 "nbformat_minor": 0
}
