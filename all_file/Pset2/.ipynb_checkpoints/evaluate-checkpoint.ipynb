{
 "cells": [
  {
   "cell_type": "code",
   "execution_count": 5,
   "metadata": {
    "collapsed": false
   },
   "outputs": [
    {
     "name": "stdout",
     "output_type": "stream",
     "text": [
      "1.1715370744\t0.480540100822\t0.375885655265\t0.317297858655\t0.295277429813\t0.27181320102\t0.256029603999\t0.241182551819\t0.227250303617\t0.212989102836\t0.20489570001\t0.200684031228\t0.195877107845\t0.19062669315\t0.185747713965\t0.177178515039\t\n",
      "0.971689030101\t0.662394685235\t0.469467072122\t0.374446936817\t0.326088403305\t0.281912698976\t0.25566808258\t0.246760958521\t0.234212572789\t0.222537339323\t0.213437398364\t0.206256392995\t0.200092494753\t0.193963289579\t0.189109968577\t0.185025230644\t\n",
      "1.10644334827\t0.48944100221\t0.356630495725\t0.288309964577\t0.251053205951\t0.229781672275\t0.207443759437\t0.192728317919\t0.183220868414\t0.176408078816\t0.170816740997\t0.163755424368\t0.156484244366\t0.152845554242\t0.149299680918\t0.146268215942\t\n",
      "1.20319585251\t0.552139657404\t0.412372754125\t0.343568242078\t0.304340010323\t0.262482689924\t0.238383458068\t0.226326836495\t0.209740371245\t0.194523926238\t0.186241025616\t0.175175524151\t0.166648699055\t0.159669515286\t0.154510182272\t0.151606393596\t\n",
      "6.8425722211\t3.43831199448\t1.16817115552\t0.787960791953\t0.384157068869\t0.337153431834\t0.323396771489\t0.295746131367\t0.282211473677\t0.26410152645\t0.248022151903\t0.241340764461\t0.240501995581\t0.240607557128\t0.242390761487\t0.245439550417\t\n",
      "\n"
     ]
    }
   ],
   "source": [
    "import numpy as np\n",
    "import tensorflow as tf\n",
    "import argparse\n",
    "import sys\n",
    "\n",
    "def loadRes(filePath):\n",
    "    with open(filePath, 'r') as fd:\n",
    "        device_cord = []\n",
    "        for line in fd:\n",
    "            cord = [np.float64(i) for i in line.split()]\n",
    "            device_cord.append(cord)\n",
    "    device_cord = np.array(device_cord)\n",
    "    return device_cord\n",
    "\n",
    "# parser = argparse.ArgumentParser(description=\"training options\")\n",
    "# parser.add_argument('--src-path', action='store', dest='src_path', required=True)\n",
    "# parser.add_argument('--res-path', action='store', dest='res_path', required=True)\n",
    "# args = parser.parse_args()\n",
    "\n",
    "# filePath = args.src_path\n",
    "# resPath = args.res_path\n",
    "err_tab = []\n",
    "for i in range(1, 6):\n",
    "    err_list = []\n",
    "    for j in range(5, 21):\n",
    "#         filePath = './test_case/output_case002_10.txt' \n",
    "#         resPath = './test_case_ans/sample_case002_ans.txt'\n",
    "        filePath = './test_case/output_case00'+str(i)+'_'+str(j)+'.txt' \n",
    "        resPath = './test_case_ans/sample_case00'+str(i)+'_ans.txt'\n",
    "        \n",
    "        res = loadRes(filePath)\n",
    "        ans = loadRes(resPath)\n",
    "\n",
    "        if len(res) != len(ans):\n",
    "            print 'not corresponding file?'\n",
    "            sys.exit()\n",
    "    \n",
    "        sub = res - ans\n",
    "        sub = sub[:, :2]\n",
    "        dist = np.sqrt(np.sum(sub**2, 1))\n",
    "        average_err = np.sum(dist)/len(res)\n",
    "        err_list.append(average_err)\n",
    "    err_tab.append(err_list)\n",
    "\n",
    "out_str = ''\n",
    "for err_list in err_tab:\n",
    "    for err in err_list:\n",
    "        out_str+=str(err)+'\\t'\n",
    "    out_str += '\\n'\n",
    "print out_str"
   ]
  },
  {
   "cell_type": "code",
   "execution_count": 1,
   "metadata": {
    "collapsed": false
   },
   "outputs": [
    {
     "name": "stdout",
     "output_type": "stream",
     "text": [
      "1\n",
      "2\n",
      "3\n",
      "4\n",
      "5\n"
     ]
    }
   ],
   "source": [
    "import numpy as np\n",
    "import tensorflow as tf\n",
    "import argparse\n",
    "import sys\n",
    "\n",
    "def loadRes(filePath):\n",
    "    with open(filePath, 'r') as fd:\n",
    "        device_cord = []\n",
    "        for line in fd:\n",
    "            cord = [np.float64(i) for i in line.split()]\n",
    "            device_cord.append(cord)\n",
    "    device_cord = np.array(device_cord)\n",
    "    return device_cord\n",
    "\n",
    "err_list = []\n",
    "for i in range(1, 6):\n",
    "#         filePath = './test_case/output_case002_10.txt' \n",
    "#         resPath = './test_case_ans/sample_case002_ans.txt'\n",
    "    filePath = './res/output_case00'+str(i)+'.txt' \n",
    "    resPath = './test_case_ans/sample_case00'+str(i)+'_ans.txt'\n",
    "\n",
    "    res = loadRes(filePath)\n",
    "    ans = loadRes(resPath)\n",
    "\n",
    "    if len(res) != len(ans):\n",
    "        print 'not corresponding file?'\n",
    "        sys.exit()\n",
    "\n",
    "    sub = res - ans\n",
    "    sub = sub[:, :2]\n",
    "    dist = np.sqrt(np.sum(sub**2, 1))\n",
    "    average_err = np.sum(dist)/len(res)\n",
    "    err_list.append(average_err)\n",
    "\n",
    "out_str = ''\n",
    "for err in err_list:\n",
    "    out_str+=str(err)+'\\t'\n",
    "out_str += '\\n'\n",
    "print out_str"
   ]
  },
  {
   "cell_type": "code",
   "execution_count": 8,
   "metadata": {
    "collapsed": false
   },
   "outputs": [
    {
     "name": "stdout",
     "output_type": "stream",
     "text": [
      "output_case001.txt\n",
      "output_case002.txt\n",
      "output_case003.txt\n",
      "output_case004.txt\n",
      "output_case005.txt\n",
      "test_case002.output.txt\n"
     ]
    }
   ],
   "source": [
    "%%bash\n",
    "ls ./res/output_case001.txt"
   ]
  },
  {
   "cell_type": "code",
   "execution_count": null,
   "metadata": {
    "collapsed": true
   },
   "outputs": [],
   "source": []
  }
 ],
 "metadata": {
  "kernelspec": {
   "display_name": "Python 2",
   "language": "python",
   "name": "python2"
  },
  "language_info": {
   "codemirror_mode": {
    "name": "ipython",
    "version": 2
   },
   "file_extension": ".py",
   "mimetype": "text/x-python",
   "name": "python",
   "nbconvert_exporter": "python",
   "pygments_lexer": "ipython2",
   "version": "2.7.11"
  }
 },
 "nbformat": 4,
 "nbformat_minor": 0
}
